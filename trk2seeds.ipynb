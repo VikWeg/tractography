{
 "cells": [
  {
   "cell_type": "code",
   "execution_count": 3,
   "metadata": {},
   "outputs": [],
   "source": [
    "import os\n",
    "os.environ['PYTHONHASHSEED'] = '0'\n",
    "import nibabel as nib\n",
    "import numpy as np\n",
    "import yaml\n",
    "\n",
    "from hashlib import md5"
   ]
  },
  {
   "cell_type": "code",
   "execution_count": 4,
   "metadata": {},
   "outputs": [],
   "source": [
    "def trk2seeds(config):\n",
    "    np.random.seed(42)\n",
    "    \n",
    "    subject_dir = os.path.join(\"subjects\", config[\"subject\"])\n",
    "    \n",
    "    trk_path = os.path.join(subject_dir, config[\"trk_path\"])\n",
    "    \n",
    "    hasher = md5()\n",
    "    for v in config.values():\n",
    "        hasher.update(str(v).encode())\n",
    "    \n",
    "    save_dir = os.path.join(subject_dir, \"seeds\", hasher.hexdigest())\n",
    "    \n",
    "    if os.path.exists(save_dir):\n",
    "        print(\"Seeds with this config have been created already:\\n{}\".format(save_dir))\n",
    "        return\n",
    "    \n",
    "    tracts = nib.streamlines.load(trk_path).tractogram.streamlines # voxel-center coords\n",
    "    \n",
    "    seeds = []\n",
    "    for fiber in tracts:\n",
    "        seeds.append(fiber[0])\n",
    "        seeds.append(fiber[-1])\n",
    "    seeds = np.array(seeds)\n",
    "    \n",
    "    rand_shifts = np.random.uniform(-config[\"rand_radius\"], config[\"rand_radius\"],\n",
    "                                    size=(len(seeds), config[\"rand_samples\"], 3)\n",
    "    )\n",
    "    \n",
    "    rand_seeds = rand_shifts + seeds.reshape(-1, 1, 3)\n",
    "    rand_seeds = rand_seeds.reshape(-1, 3)\n",
    "    \n",
    "    all_seeds = np.vstack([seeds, rand_seeds])\n",
    "    \n",
    "    all_seeds = np.hstack([all_seeds, np.ones((len(all_seeds), 1))]) # Additional dimension for 4x4 affine\n",
    "    \n",
    "    os.makedirs(save_dir, exist_ok=True)\n",
    "    save_path = os.path.join(save_dir, \"seeds.npy\")\n",
    "    print(\"Saving {}\".format(save_path))\n",
    "    np.save(save_path, all_seeds) # We don't need to shift by +0.5 vox, because we load again with numpy\n",
    "    \n",
    "    config[\"n_seeds\"] = len(all_seeds)\n",
    "    config_path = os.path.join(save_dir, \"config\" + \".yml\")\n",
    "    print(\"Saving {}\".format(config_path))\n",
    "    with open(config_path, \"w\") as file:\n",
    "            yaml.dump(config, file, default_flow_style=False)\n",
    "    \n",
    "    return all_seeds"
   ]
  },
  {
   "cell_type": "code",
   "execution_count": 7,
   "metadata": {},
   "outputs": [],
   "source": [
    "config=dict(\n",
    "    subject=\"ismrm_rpe\",\n",
    "    trk_path=\"tracts/merged.trk\",\n",
    "    rand_radius=1.0,\n",
    "    rand_samples=1\n",
    ")"
   ]
  },
  {
   "cell_type": "code",
   "execution_count": 8,
   "metadata": {},
   "outputs": [
    {
     "name": "stdout",
     "output_type": "stream",
     "text": [
      "Saving subjects/ismrm_rpe/seeds/6c78e951274fe8b719147ec639daddbe/seeds.npy\n",
      "Saving subjects/ismrm_rpe/seeds/6c78e951274fe8b719147ec639daddbe/config.yml\n"
     ]
    }
   ],
   "source": [
    "seeds = trk2seeds(config)"
   ]
  },
  {
   "cell_type": "code",
   "execution_count": null,
   "metadata": {},
   "outputs": [],
   "source": []
  }
 ],
 "metadata": {
  "kernelspec": {
   "display_name": "Python 3",
   "language": "python",
   "name": "python3"
  },
  "language_info": {
   "codemirror_mode": {
    "name": "ipython",
    "version": 3
   },
   "file_extension": ".py",
   "mimetype": "text/x-python",
   "name": "python",
   "nbconvert_exporter": "python",
   "pygments_lexer": "ipython3",
   "version": "3.6.8"
  }
 },
 "nbformat": 4,
 "nbformat_minor": 2
}
