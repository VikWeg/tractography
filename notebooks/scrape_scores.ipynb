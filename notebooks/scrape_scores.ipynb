{
 "cells": [
  {
   "cell_type": "code",
   "execution_count": 1,
   "metadata": {},
   "outputs": [],
   "source": [
    "import pandas as pd\n",
    "import urllib\n",
    "from lxml import etree, html"
   ]
  },
  {
   "cell_type": "code",
   "execution_count": 2,
   "metadata": {},
   "outputs": [],
   "source": [
    "def get_submission_trtables(weburl):\n",
    "    with urllib.request.urlopen(weburl) as response:\n",
    "       page = response.read()\n",
    "    doc = html.fromstring(page)\n",
    "    table = doc.xpath(\"//*[contains(@class, 'border_white')]\")[0]\n",
    "    tr_elements = table.xpath('tr')\n",
    "    return tr_elements"
   ]
  },
  {
   "cell_type": "code",
   "execution_count": 3,
   "metadata": {},
   "outputs": [],
   "source": [
    "def get_array_from_trtable(tr_elements, filename=None):\n",
    "    col=[]\n",
    "    i=0\n",
    "\n",
    "    # Make header\n",
    "    for t in tr_elements[0]:\n",
    "        i+=1\n",
    "        name=t.text_content()\n",
    "        col.append((name,[]))\n",
    "\n",
    "    for j in range(1,len(tr_elements)):\n",
    "        # T is our j'th row\n",
    "        T=tr_elements[j]\n",
    "\n",
    "        # index of the column\n",
    "        i=0\n",
    "\n",
    "        # Iterate through each element of the row\n",
    "        for t in T.iterchildren():\n",
    "            data=t.text_content() \n",
    "            if i==0:\n",
    "                data= str(data).strip()\n",
    "            col[i][1].append(data)\n",
    "            i+=1\n",
    "            \n",
    "    Dict = {title:column for (title,column) in col}\n",
    "    submissions = pd.DataFrame(Dict)\n",
    "    if filename is not None:\n",
    "        submissions.to_csv(filename + '.csv', sep='\\t')\n",
    "    return submissions"
   ]
  },
  {
   "cell_type": "code",
   "execution_count": 4,
   "metadata": {},
   "outputs": [],
   "source": [
    "weburl = 'http://www.tractometer.org/ismrm_2015_challenge/results'\n",
    "with urllib.request.urlopen(weburl) as response:\n",
    "   page = response.read()\n",
    "doc = html.fromstring(page)\n",
    "table = doc.xpath(\"//*[contains(@id, 'results_table')]\")[0]\n",
    "tr_elements = table.xpath('//tr')\n",
    "submissions = get_array_from_trtable(tr_elements, filename='scraped_submissions')"
   ]
  },
  {
   "cell_type": "code",
   "execution_count": null,
   "metadata": {},
   "outputs": [],
   "source": [
    "submission_url = 'http://www.tractometer.org/ismrm_2015_challenge/results/{0}'\n",
    "submission_tables = {}\n",
    "for submission in submissions['Submission ID']:\n",
    "    trelements = get_submission_trtables(submission_url.format(submission))\n",
    "    submission_tables[submission] = get_array_from_trtable(trelements, filename='submission{0}'.format(submission))\n",
    "    "
   ]
  },
  {
   "cell_type": "code",
   "execution_count": null,
   "metadata": {},
   "outputs": [],
   "source": [
    "submissions"
   ]
  },
  {
   "cell_type": "code",
   "execution_count": null,
   "metadata": {},
   "outputs": [],
   "source": [
    "submission_tables['1_0']"
   ]
  },
  {
   "cell_type": "code",
   "execution_count": null,
   "metadata": {},
   "outputs": [],
   "source": [
    "main_table['mean overlap'] = -1\n",
    "main_table['mean overreach'] = -1\n",
    "for team, submission in submission_tables.items():\n",
    "    ol_mean = submission['Overlap (% of GT)'].str.replace(\"%\", \"\").astype(float).mean()\n",
    "    or_mean = submission['Overreach (% of GT)'].str.replace(\"%\", \"\").astype(float).mean()\n",
    "    \n",
    "    idx = main_table.index[main_table['Submission ID'] == team]\n",
    "    main_table.loc[idx, 'mean overlap'] = ol_mean\n",
    "    main_table.loc[idx, 'mean overreach'] = or_mean"
   ]
  },
  {
   "cell_type": "code",
   "execution_count": null,
   "metadata": {},
   "outputs": [],
   "source": [
    "main_table"
   ]
  },
  {
   "cell_type": "code",
   "execution_count": null,
   "metadata": {},
   "outputs": [],
   "source": []
  }
 ],
 "metadata": {
  "kernelspec": {
   "display_name": "Python 3",
   "language": "python",
   "name": "python3"
  },
  "language_info": {
   "codemirror_mode": {
    "name": "ipython",
    "version": 3
   },
   "file_extension": ".py",
   "mimetype": "text/x-python",
   "name": "python",
   "nbconvert_exporter": "python",
   "pygments_lexer": "ipython3",
   "version": "3.7.4"
  }
 },
 "nbformat": 4,
 "nbformat_minor": 2
}
