{
 "cells": [
  {
   "cell_type": "code",
   "execution_count": 1,
   "metadata": {},
   "outputs": [],
   "source": [
    "import os\n",
    "os.environ['PYTHONHASHSEED'] = '0'\n",
    "import random as rn\n",
    "rn.seed(12345)\n",
    "from numpy.random import seed\n",
    "seed(42)\n",
    "\n",
    "import numpy as np\n",
    "from sklearn.ensemble import RandomForestClassifier\n",
    "from dipy.io.gradients import read_bvals_bvecs\n",
    "import pickle\n",
    "\n",
    "import yaml\n",
    "\n",
    "from hashlib import md5\n",
    "\n",
    "import warnings\n",
    "warnings.filterwarnings('ignore')"
   ]
  },
  {
   "cell_type": "code",
   "execution_count": 2,
   "metadata": {},
   "outputs": [],
   "source": [
    "def train_model(config):\n",
    "    \n",
    "    sample_path = os.path.join(config[\"sample_dir\"], \"samples.npz\")\n",
    "    \n",
    "    hasher = md5()\n",
    "    for v in config.values():\n",
    "        hasher.update(str(v).encode())\n",
    "    \n",
    "    save_dir = os.path.join(\"..\", \"models\", config[\"model_name\"], hasher.hexdigest())\n",
    "    \n",
    "    if os.path.exists(save_dir):\n",
    "        print(\"This model config has been trained already:\\n{}\".format(save_dir))\n",
    "        return\n",
    "    \n",
    "    \n",
    "    samples = np.load(os.path.join(config[\"sample_dir\"], \"samples.npz\"))    \n",
    "    inputs = samples[\"inputs\"]\n",
    "    outputs = samples[\"outputs\"]\n",
    "    inputs = inputs[:min(config[\"max_n_samples\"], len(inputs))]\n",
    "    outputs = outputs[:min(config[\"max_n_samples\"], len(outputs))]\n",
    "    \n",
    "    _, bvecs = read_bvals_bvecs(None, config[\"bvecs\"])\n",
    "    \n",
    "    output_classes = np.array([np.argmax([np.dot(base_vec, outvec) for base_vec in bvecs]) for outvec in outputs])\n",
    "        \n",
    "    clf = RandomForestClassifier(n_estimators=config[\"n_estimators\"], \n",
    "                                 max_depth=config[\"max_depth\"], \n",
    "                                 random_state=config[\"random_state\"])\n",
    "    clf.fit(inputs, output_classes) \n",
    "    \n",
    "    os.makedirs(save_dir, exist_ok=True)\n",
    "    \n",
    "    config_path = os.path.join(save_dir, \"config\" + \".yml\")\n",
    "    print(\"Saving {}\".format(config_path))\n",
    "    with open(config_path, \"w\") as file:\n",
    "        yaml.dump(config, file, default_flow_style=False)\n",
    "                \n",
    "                \n",
    "    model_path = os.path.join(save_dir, 'model')\n",
    "    print(\"Saving {}\".format(model_path))\n",
    "    with open(model_path, 'wb') as f:\n",
    "        pickle.dump(clf, f)\n",
    "    \n",
    "    return clf, inputs, outputs, output_classes"
   ]
  },
  {
   "cell_type": "code",
   "execution_count": 3,
   "metadata": {},
   "outputs": [],
   "source": [
    "config = dict(\n",
    "    model_name=\"rf_model\",\n",
    "    sample_dir=\"../subjects/992774/samples/cd3f586ae51a17b1ca3fcaebfcd1484f\",\n",
    "    bvecs=\"../subjects/992774/bvecs_input\",\n",
    "    max_n_samples=1000,\n",
    "    n_estimators=100,\n",
    "    max_depth=25,\n",
    "    random_state=0\n",
    ")"
   ]
  },
  {
   "cell_type": "code",
   "execution_count": 4,
   "metadata": {},
   "outputs": [
    {
     "name": "stdout",
     "output_type": "stream",
     "text": [
      "Saving ../models/rf_model/1f52753195c734dda3b10ec006b03f7c/config.yml\n",
      "Saving ../models/rf_model/1f52753195c734dda3b10ec006b03f7c/model\n"
     ]
    }
   ],
   "source": [
    "clf, inputs, outputs, output_classes = train_model(config)"
   ]
  },
  {
   "cell_type": "code",
   "execution_count": null,
   "metadata": {},
   "outputs": [],
   "source": []
  }
 ],
 "metadata": {
  "kernelspec": {
   "display_name": "Python 3",
   "language": "python",
   "name": "python3"
  },
  "language_info": {
   "codemirror_mode": {
    "name": "ipython",
    "version": 3
   },
   "file_extension": ".py",
   "mimetype": "text/x-python",
   "name": "python",
   "nbconvert_exporter": "python",
   "pygments_lexer": "ipython3",
   "version": "3.7.4"
  }
 },
 "nbformat": 4,
 "nbformat_minor": 2
}
