{
 "cells": [
  {
   "cell_type": "code",
   "execution_count": 1,
   "metadata": {},
   "outputs": [],
   "source": [
    "import os\n",
    "os.environ['PYTHONHASHSEED'] = '0'\n",
    "import random as rn\n",
    "rn.seed(12345)\n",
    "from numpy.random import seed\n",
    "seed(42)\n",
    "from tensorflow.compat.v1 import set_random_seed\n",
    "set_random_seed(42)"
   ]
  },
  {
   "cell_type": "code",
   "execution_count": 20,
   "metadata": {},
   "outputs": [],
   "source": [
    "import yaml\n",
    "import os\n",
    "\n",
    "import nipy as ni\n",
    "import nibabel as nib\n",
    "import numpy as np\n",
    "\n",
    "from tensorflow.keras.models import load_model\n",
    "from nibabel.streamlines.array_sequence import ArraySequence, concatenate\n",
    "from nibabel.streamlines.tractogram import Tractogram\n",
    "from GPUtil import getFirstAvailable\n",
    "\n",
    "from tensorflow.keras import backend as K\n",
    "\n",
    "import warnings\n",
    "warnings.filterwarnings('ignore')"
   ]
  },
  {
   "cell_type": "code",
   "execution_count": 3,
   "metadata": {},
   "outputs": [],
   "source": [
    "os.environ[\"CUDA_VISIBLE_DEVICES\"] = str(getFirstAvailable(order=\"load\", maxLoad=10**-6, maxMemory=10**-1)[0])"
   ]
  },
  {
   "cell_type": "code",
   "execution_count": 4,
   "metadata": {},
   "outputs": [],
   "source": [
    "model_dir = \"models/detrack/2019-10-07-15:45:55\""
   ]
  },
  {
   "cell_type": "code",
   "execution_count": 10,
   "metadata": {},
   "outputs": [],
   "source": [
    "def cosine_loss(y_true, y_pred):\n",
    "    return -K.mean(K.sum(y_true * y_pred, axis=1))"
   ]
  },
  {
   "cell_type": "code",
   "execution_count": 11,
   "metadata": {},
   "outputs": [
    {
     "name": "stderr",
     "output_type": "stream",
     "text": [
      "WARNING: Logging before flag parsing goes to stderr.\n",
      "W1008 09:20:44.088097 140150231160576 deprecation.py:323] From /local/home/vwegmayr/miniconda2/envs/thesis/lib/python3.6/site-packages/tensorflow/python/ops/math_grad.py:1250: add_dispatch_support.<locals>.wrapper (from tensorflow.python.ops.array_ops) is deprecated and will be removed in a future version.\n",
      "Instructions for updating:\n",
      "Use tf.where in 2.0, which has the same broadcast rule as np.where\n"
     ]
    }
   ],
   "source": [
    "config = yaml.load(open(os.path.join(model_dir, \"config.yml\")))\n",
    "model = load_model(os.path.join(model_dir, \"model.h5\"),\n",
    "                   custom_objects={\"cosine_loss\": cosine_loss})"
   ]
  },
  {
   "cell_type": "code",
   "execution_count": 14,
   "metadata": {},
   "outputs": [],
   "source": [
    "dwi_img = ni.load_image(config[\"dwi_path\"])\n",
    "dwi = dwi_img.get_data()\n",
    "\n",
    "wm_mask = ni.load_image(\"scoring_data/masks/wm.nii.gz\").get_data()"
   ]
  },
  {
   "cell_type": "code",
   "execution_count": 17,
   "metadata": {},
   "outputs": [
    {
     "data": {
      "text/plain": [
       "array([[0.99875474, 0.02187484, 0.0448388 ]], dtype=float32)"
      ]
     },
     "execution_count": 17,
     "metadata": {},
     "output_type": "execute_result"
    }
   ],
   "source": [
    "x = dwi[73,95,74]\n",
    "vin = np.array([1,1,0])\n",
    "vin = vin / np.linalg.norm(vin)\n",
    "model.predict(np.hstack([vin, vin, vin, x]).reshape(1,-1))"
   ]
  },
  {
   "cell_type": "code",
   "execution_count": 18,
   "metadata": {},
   "outputs": [],
   "source": [
    "def seeds2fibers(seeds, step_size, max_iter, dwi_path, wm_path, model, config, save_path=\"tractogram.tck\"):\n",
    "    \"\"\"\n",
    "    seeds: [[x1,y1,z1],...,[xn,yn,zn]]\n",
    "    \"\"\"\n",
    "    # Load data\n",
    "    dwi_img = ni.load_image(dwi_path)\n",
    "    dwi = dwi_img.get_data()\n",
    "    \n",
    "    wm_img = ni.load_image(wm_path)\n",
    "    wm = wm_img.get_data()\n",
    "    \n",
    "    def ijk2xyz(indices):\n",
    "        indices = np.hstack([indices, np.zeros((len(indices),1))])\n",
    "        fn = lambda idx: dwi_img.coordmap(idx)[:3]\n",
    "        return np.array(list(map(fn, indices)))\n",
    "    \n",
    "    def xyz2ijk(coords):\n",
    "        coords = np.hstack([coords, np.zeros((len(coords),1))])\n",
    "        fn = lambda coord: dwi_img.coordmap.inverse()(coord).round().astype(int)[:3]\n",
    "        return np.array(list(map(fn, coords)))\n",
    "    \n",
    "    # Begin iteration\n",
    "    \n",
    "    ijk = seeds.copy()\n",
    "    xyz = ijk2xyz(ijk).reshape(-1, 1, 3) # [fiber, pt, coo]\n",
    "    fibers = []\n",
    "    for i in range(max_iter):\n",
    "        \n",
    "        d = dwi[ijk[:,0], ijk[:,1], ijk[:,2], :]\n",
    "        \n",
    "        vin = np.zeros((len(xyz), 3*config[\"n_incoming\"]))\n",
    "        for j in range(min(config[\"n_incoming\"], len(xyz[0,:,:])-1)):\n",
    "            vin[:,3*j:3*(j+1)] = xyz[:,-j-1,:] - xyz[:,-j-2,:]\n",
    "\n",
    "        vout = model.predict(np.hstack([vin,d]))\n",
    "        rout = (xyz[:,-1,:] + step_size * vout).reshape(-1, 1, 3)\n",
    "        \n",
    "        xyz = np.concatenate((xyz, rout), axis=1)\n",
    "        \n",
    "        ijk = xyz2ijk(xyz[:,-1,:])\n",
    "        isterminal = np.where(wm[ijk[:,0],ijk[:,1],ijk[:,2]] < 0.5)[0]\n",
    "\n",
    "        for idx in isterminal:\n",
    "            fibers.append(xyz[idx])\n",
    "        \n",
    "        xyz = np.delete(xyz, isterminal, axis=0)\n",
    "        ijk = xyz2ijk(xyz[:,-1,:])\n",
    "        \n",
    "        print(\"Iteration {}\".format(i+1), end=\"\\r\")\n",
    "    \n",
    "        if len(fibers) == len(seeds):\n",
    "            break\n",
    "    \n",
    "    tractogram = Tractogram(\n",
    "        streamlines=ArraySequence(fibers),\n",
    "        affine_to_rasmm=np.eye(4) # Fiber coords already in correct space\n",
    "    )\n",
    "    \n",
    "    tck_file = nib.streamlines.tck.TckFile(tractogram=tractogram)\n",
    "    \n",
    "    tck_file.save(save_path)\n",
    "    \n",
    "    return tractogram"
   ]
  },
  {
   "cell_type": "code",
   "execution_count": 21,
   "metadata": {},
   "outputs": [
    {
     "name": "stdout",
     "output_type": "stream",
     "text": [
      "Iteration 1\r",
      "Iteration 2\r",
      "Iteration 3\r",
      "Iteration 4\r",
      "Iteration 5\r",
      "Iteration 6\r",
      "Iteration 7\r",
      "Iteration 8\r"
     ]
    },
    {
     "data": {
      "text/plain": [
       "<nibabel.streamlines.tractogram.Tractogram at 0x7f76541e4ac8>"
      ]
     },
     "execution_count": 21,
     "metadata": {},
     "output_type": "execute_result"
    }
   ],
   "source": [
    "seeds2fibers(np.array([[73,95,74],[74,95,74]]),\n",
    "             step_size=1,\n",
    "             max_iter=20,\n",
    "             dwi_path=config[\"dwi_path\"],\n",
    "             wm_path=\"scoring_data/masks/wm.nii.gz\",\n",
    "             model=model,\n",
    "             config=config)"
   ]
  },
  {
   "cell_type": "code",
   "execution_count": null,
   "metadata": {},
   "outputs": [],
   "source": []
  }
 ],
 "metadata": {
  "kernelspec": {
   "display_name": "Python 3",
   "language": "python",
   "name": "python3"
  },
  "language_info": {
   "codemirror_mode": {
    "name": "ipython",
    "version": 3
   },
   "file_extension": ".py",
   "mimetype": "text/x-python",
   "name": "python",
   "nbconvert_exporter": "python",
   "pygments_lexer": "ipython3",
   "version": "3.6.8"
  }
 },
 "nbformat": 4,
 "nbformat_minor": 2
}
